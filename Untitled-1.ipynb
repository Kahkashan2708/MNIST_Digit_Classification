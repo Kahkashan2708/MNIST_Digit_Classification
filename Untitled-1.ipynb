{
 "cells": [
  {
   "cell_type": "markdown",
   "id": "b0cbea34",
   "metadata": {},
   "source": [
    "## MNIST Data Clssification"
   ]
  },
  {
   "cell_type": "code",
   "execution_count": null,
   "id": "34f8ca0e",
   "metadata": {},
   "outputs": [],
   "source": [
    "! pip install pandas"
   ]
  },
  {
   "cell_type": "code",
   "execution_count": null,
   "id": "9a0b1596",
   "metadata": {},
   "outputs": [
    {
     "ename": "",
     "evalue": "",
     "output_type": "error",
     "traceback": [
      "\u001b[1;31mRunning cells with 'Python 3.8.2' requires the ipykernel package.\n",
      "\u001b[1;31m<a href='command:jupyter.createPythonEnvAndSelectController'>Create a Python Environment</a> with the required packages.\n",
      "\u001b[1;31mOr install 'ipykernel' using the command: '\"c:/Program Files/Python38/python.exe\" -m pip install ipykernel -U --user --force-reinstall'"
     ]
    }
   ],
   "source": [
    "# import libraries\n",
    "import numpy as np\n",
    "import matplotlib.pyplot as plt\n",
    "import seaborn as sns\n",
    "import cv2\n",
    "from PIL import Image\n",
    "import tensorflow as tf\n",
    "tf.random.set_seed(3)\n",
    "from tensorflow import _Keras\n",
    "from keras.dataset import mnist\n",
    "from tensorflowmath import confusion_matrix"
   ]
  },
  {
   "cell_type": "markdown",
   "id": "6a7e78fa",
   "metadata": {},
   "source": []
  },
  {
   "cell_type": "markdown",
   "id": "958ea68f",
   "metadata": {},
   "source": [
    "#### Loading Mnist Dataset from keras.dataset"
   ]
  },
  {
   "cell_type": "code",
   "execution_count": null,
   "id": "51d75df3",
   "metadata": {},
   "outputs": [],
   "source": [
    "(X_train,Y_train),(X_test,Y_test)=mnist.load_data()"
   ]
  },
  {
   "cell_type": "code",
   "execution_count": null,
   "id": "8edd0a61",
   "metadata": {},
   "outputs": [],
   "source": [
    "type(X_train)"
   ]
  },
  {
   "cell_type": "code",
   "execution_count": null,
   "id": "d7e7dd7d",
   "metadata": {},
   "outputs": [],
   "source": []
  }
 ],
 "metadata": {
  "kernelspec": {
   "display_name": "Python 3",
   "language": "python",
   "name": "python3"
  },
  "language_info": {
   "name": "python",
   "version": "3.8.2"
  }
 },
 "nbformat": 4,
 "nbformat_minor": 5
}
